{
 "cells": [
  {
   "cell_type": "code",
   "execution_count": 7,
   "id": "48921145-3296-4df2-bc73-bd672a3f9db9",
   "metadata": {
    "execution": {
     "iopub.execute_input": "2025-04-05T07:01:20.193834Z",
     "iopub.status.busy": "2025-04-05T07:01:20.193242Z",
     "iopub.status.idle": "2025-04-05T07:01:20.196251Z",
     "shell.execute_reply": "2025-04-05T07:01:20.195891Z",
     "shell.execute_reply.started": "2025-04-05T07:01:20.193809Z"
    }
   },
   "outputs": [],
   "source": [
    "## Change file path names in getAmpsDesired and getRaftData, as filename "
   ]
  },
  {
   "cell_type": "code",
   "execution_count": 5,
   "id": "6c9f3e11-5250-41eb-8a90-34d8ce1fa553",
   "metadata": {
    "execution": {
     "iopub.execute_input": "2025-04-05T07:09:26.709637Z",
     "iopub.status.busy": "2025-04-05T07:09:26.709123Z",
     "iopub.status.idle": "2025-04-05T07:09:27.362454Z",
     "shell.execute_reply": "2025-04-05T07:09:27.362091Z",
     "shell.execute_reply.started": "2025-04-05T07:09:26.709617Z"
    }
   },
   "outputs": [],
   "source": [
    "import pandas as pd\n",
    "import pyarrow.parquet as pq\n",
    "import pyarrow as pa\n",
    "from fastparquet import write\n",
    "import pandas as pd\n",
    "import matplotlib.pyplot as plt\n",
    "import numpy as np\n",
    "import pandas\n",
    "import os \n",
    "import os.path"
   ]
  },
  {
   "cell_type": "markdown",
   "id": "31950f26-89d0-4f7f-bd6c-8542376185a2",
   "metadata": {
    "execution": {
     "iopub.execute_input": "2025-04-05T07:13:24.248988Z",
     "iopub.status.busy": "2025-04-05T07:13:24.248732Z",
     "iopub.status.idle": "2025-04-05T07:13:24.251050Z",
     "shell.execute_reply": "2025-04-05T07:13:24.250694Z",
     "shell.execute_reply.started": "2025-04-05T07:13:24.248974Z"
    }
   },
   "source": [
    "## Demonstrate Data Structure\n",
    "\n",
    "Dataframes save all data from the calibrated ADC edges, ADU bins not included are not calibrated by this method. Higher ADU easily, as selected 90k ADU as an ending point, but lower ADU are more delicate/ involved due to method of calibration and sensitivity to structure in calibrating dataset. "
   ]
  },
  {
   "cell_type": "code",
   "execution_count": 20,
   "id": "8c99b358-f18d-4101-ad83-27e3f3fbeccc",
   "metadata": {
    "execution": {
     "iopub.execute_input": "2025-04-05T07:14:53.825480Z",
     "iopub.status.busy": "2025-04-05T07:14:53.824935Z",
     "iopub.status.idle": "2025-04-05T07:14:53.827968Z",
     "shell.execute_reply": "2025-04-05T07:14:53.827576Z",
     "shell.execute_reply.started": "2025-04-05T07:14:53.825460Z"
    }
   },
   "outputs": [],
   "source": [
    "def getDataFrameSensor(amplifierdesired): # yields the left edge of the specified calibrated ADC bin \n",
    "    ## read the file \n",
    "    sensorname = amplifierdesired[:7]\n",
    "    amp = amplifierdesired[8:]\n",
    "    ## Change file pathname\n",
    "    filename = f'/sdf/data/rubin/user/rejnicho/ADCEdgesSensor/{sensorname}ADCEdges.parquet'\n",
    "    df = pd.read_parquet(filename, engine='pyarrow')\n",
    "    print(df)\n"
   ]
  },
  {
   "cell_type": "code",
   "execution_count": 19,
   "id": "b610b2b3-9ccb-41d1-a256-faca86a0b802",
   "metadata": {
    "execution": {
     "iopub.execute_input": "2025-04-05T07:14:08.397532Z",
     "iopub.status.busy": "2025-04-05T07:14:08.397228Z",
     "iopub.status.idle": "2025-04-05T07:14:08.498802Z",
     "shell.execute_reply": "2025-04-05T07:14:08.498400Z",
     "shell.execute_reply.started": "2025-04-05T07:14:08.397518Z"
    }
   },
   "outputs": [
    {
     "name": "stdout",
     "output_type": "stream",
     "text": [
      "                    edges\n",
      "amp bin_idx              \n",
      "C00 26789    26789.000000\n",
      "    26790    26789.960850\n",
      "    26791    26791.123028\n",
      "    26792    26792.106854\n",
      "    26793    26793.056004\n",
      "...                   ...\n",
      "C17 89996    89995.993530\n",
      "    89997    89997.087688\n",
      "    89998    89998.075500\n",
      "    89999    89999.071403\n",
      "    90000    90000.000196\n",
      "\n",
      "[1013392 rows x 1 columns]\n"
     ]
    }
   ],
   "source": [
    "getDataFrameSensor(\"R31_S00_C10\")"
   ]
  },
  {
   "cell_type": "markdown",
   "id": "a06cf30a-c425-4437-9451-4035de00d19a",
   "metadata": {
    "execution": {
     "iopub.execute_input": "2025-04-04T16:22:20.357076Z",
     "iopub.status.busy": "2025-04-04T16:22:20.356745Z",
     "iopub.status.idle": "2025-04-04T16:22:20.359356Z",
     "shell.execute_reply": "2025-04-04T16:22:20.359028Z",
     "shell.execute_reply.started": "2025-04-04T16:22:20.357058Z"
    }
   },
   "source": [
    "## Sample Conversion Function from rawADU to calibrated DNL ADC Edge\n",
    "\n",
    "yields the left edge of the ADC bin"
   ]
  },
  {
   "cell_type": "code",
   "execution_count": 16,
   "id": "193c16bf-d3b9-4dfb-8ea1-99bd8793e60f",
   "metadata": {
    "execution": {
     "iopub.execute_input": "2025-04-05T07:12:47.745630Z",
     "iopub.status.busy": "2025-04-05T07:12:47.745221Z",
     "iopub.status.idle": "2025-04-05T07:12:47.748691Z",
     "shell.execute_reply": "2025-04-05T07:12:47.748367Z",
     "shell.execute_reply.started": "2025-04-05T07:12:47.745615Z"
    }
   },
   "outputs": [],
   "source": [
    "def getADULeftEdge(amplifierdesired, rawADU): # yields the left edge of the specified calibrated ADC bin \n",
    "    ## read the file \n",
    "    sensorname = amplifierdesired[:7]\n",
    "    amp = amplifierdesired[8:]\n",
    "    ## Change file pathname\n",
    "    filename = f'/sdf/data/rubin/user/rejnicho/ADCEdgesSensor/{sensorname}ADCEdges.parquet'\n",
    "    df = pd.read_parquet(filename, engine='pyarrow')\n",
    "    calibratedADUleft = float(df.loc[(amp, rawADU), \"edges\"])\n",
    "    return calibratedADUleft\n",
    "\n",
    "def getADUMidpointEdge(amplifierdesired, rawADU):# yields the midpoint of the specified calibrated ADC bin \n",
    "    ## read the file \n",
    "    sensorname = amplifierdesired[:7]\n",
    "    amp = amplifierdesired[8:]\n",
    "    ## Change file pathname\n",
    "    filename = f'/sdf/data/rubin/user/rejnicho/ADCEdgesSensor/{sensorname}ADCEdges.parquet'\n",
    "    df = pd.read_parquet(filename, engine='pyarrow')\n",
    "    calibratedADUleft = float(df.loc[(amp, rawADU), \"edges\"])\n",
    "    calibratedADUright = float(df.loc[(amp, rawADU+1), \"edges\"])\n",
    "    calibratedADUHalfBinwidth = (calibratedADUright - calibratedADUleft)/ 2\n",
    "    calibratedADUmidpoint = calibratedADUleft + calibratedADUHalfBinwidth\n",
    "    \n",
    "    return calibratedADUmidpoint "
   ]
  },
  {
   "cell_type": "code",
   "execution_count": 15,
   "id": "8def25a9-6baf-4cf5-9667-5708719c54af",
   "metadata": {
    "execution": {
     "iopub.execute_input": "2025-04-05T07:12:17.861848Z",
     "iopub.status.busy": "2025-04-05T07:12:17.861597Z",
     "iopub.status.idle": "2025-04-05T07:12:18.086006Z",
     "shell.execute_reply": "2025-04-05T07:12:18.085610Z",
     "shell.execute_reply.started": "2025-04-05T07:12:17.861836Z"
    }
   },
   "outputs": [
    {
     "data": {
      "text/plain": [
       "30000.557177405288"
      ]
     },
     "execution_count": 15,
     "metadata": {},
     "output_type": "execute_result"
    }
   ],
   "source": [
    "getADULeftEdge(\"R31_S00_C10\", 30000)\n",
    "getADUMidpointEdge(\"R31_S00_C10\", 30000)"
   ]
  },
  {
   "cell_type": "markdown",
   "id": "6ad0ea15-f8ea-4d15-a901-4341cdd8b8f1",
   "metadata": {},
   "source": [
    "## Examine the same ADU for all amps on a raft"
   ]
  },
  {
   "cell_type": "code",
   "execution_count": 26,
   "id": "938dcaef-db41-48e8-b6d8-e2d1909ec35a",
   "metadata": {
    "execution": {
     "iopub.execute_input": "2025-04-05T07:19:45.782002Z",
     "iopub.status.busy": "2025-04-05T07:19:45.781779Z",
     "iopub.status.idle": "2025-04-05T07:19:45.787590Z",
     "shell.execute_reply": "2025-04-05T07:19:45.787287Z",
     "shell.execute_reply.started": "2025-04-05T07:19:45.781987Z"
    }
   },
   "outputs": [],
   "source": [
    "def combineAmpsData(datadict): \n",
    "    # the top row is 3*8 = 24 units across S20, S21, S22 \n",
    "    combineddata = [] # the proper order of the values \n",
    "    data07 = [] # amplifiers 00-07 \n",
    "    data1017 = [] # amplifiers 10-17 \n",
    "    \n",
    "    for sensor in datadict: \n",
    "        ampdata = datadict[sensor] \n",
    "        data07.extend(ampdata[:8]) #first 8 amps are the 00-07 \n",
    "        data1017.extend(ampdata[8:]) #second 8 amps are 10-17 \n",
    "\n",
    "    ## now we want to have the order be correct for the full, so 3*8* = 24 elements per row (that is 16 amps per sensor, and 9 sensors per raft), total 144 elements\n",
    "    combineddata.extend(data07[:24])\n",
    "    combineddata.extend(data1017[:24])    \n",
    "    combineddata.extend(data07[24:48])\n",
    "    combineddata.extend(data1017[24:48])\n",
    "    combineddata.extend(data07[48:])\n",
    "    combineddata.extend(data1017[48:])\n",
    "    ## reshape the data so that it is an array that is 8*3 = 24 x 6 \n",
    "    reshapeddata = np.array(combineddata).reshape(6, 24)\n",
    "\n",
    "    return reshapeddata\n",
    "\n",
    "def getRaftData(raft, rawADU): \n",
    "  \n",
    "        ## we want the sensors to be in the order they are typically viewed in \n",
    "    sensordorder = [\"S20\", \"S21\", \"S22\", \n",
    "                        \"S10\", \"S11\", \"S12\", \n",
    "                        \"S00\", \"S01\", \"S02\"]\n",
    "    indexdict = [[0,0], [0,1], [0,2], \n",
    "                     [1,0], [1,1], [1,2], \n",
    "                     [2,0], [2,1], [2,2]]\n",
    "\n",
    "        ## amp order we want to realize that the order of the amp matters \n",
    "    amporder = [\"C00\", \"C01\", \"C02\", \"C03\", \"C04\", \"C05\", \"C06\", \"C07\",\n",
    "                   \"C10\", \"C11\", \"C12\", \"C13\", \"C14\", \"C15\", \"C16\", \"C17\"]\n",
    "\n",
    "        # what you truly want is 0-7 for S20, 0-7 S21, 0-7 S22 then 10-17 S20, 10-17 S21, ... \n",
    "        # so make 2 data subparts, then combine them together \n",
    "        \n",
    "    datadict = {} # dictionary of the values to be plotted, in order of of amplifiers \n",
    "        \n",
    "    for sensor in sensordorder: # iterates in the order in which this will be plotted \n",
    "        data = [] # values of the desired value 0-7             \n",
    "            \n",
    "        for ampname in amporder: # iterates in the way to be plotted \n",
    "            fullampname = raft+\"_\"+sensor+\"_\"+ampname                 \n",
    "            desiredADU = getADULeftEdge(fullampname, rawADU)\n",
    "                \n",
    "            data.append(float(desiredADU))\n",
    "            \n",
    "        datadict[sensor] = data \n",
    "        \n",
    "        # order the datadict such that you get an array in the desired order \n",
    "    dataset = combineAmpsData(datadict)\n",
    "        \n",
    "    return dataset \n",
    "\n",
    "def plotSingleRaft(raft, rawADU, low, high): \n",
    "    plt.figure(figsize=(7, 5))\n",
    "    \n",
    "    data = getRaftData(raft, rawADU) # get the requested information in the proper order \n",
    "    im = plt.imshow(data, cmap='viridis', interpolation='none', aspect='auto', vmin=low, vmax=high)\n",
    "    plt.title(f\"{raft}, each ADC at {rawADU}\")\n",
    "    plt.colorbar()\n"
   ]
  },
  {
   "cell_type": "code",
   "execution_count": 27,
   "id": "8bfc6097-7863-49a2-be26-6eb3634e1d03",
   "metadata": {
    "execution": {
     "iopub.execute_input": "2025-04-05T07:19:46.771480Z",
     "iopub.status.busy": "2025-04-05T07:19:46.771159Z",
     "iopub.status.idle": "2025-04-05T07:20:05.892566Z",
     "shell.execute_reply": "2025-04-05T07:20:05.892178Z",
     "shell.execute_reply.started": "2025-04-05T07:19:46.771465Z"
    }
   },
   "outputs": [
    {
     "data": {
      "image/png": "[encoded data removed]",
      "text/plain": [
       "<Figure size 700x500 with 2 Axes>"
      ]
     },
     "metadata": {},
     "output_type": "display_data"
    }
   ],
   "source": [
    "# select raft, adu to plot, and lower/upper bounds of the plot \n",
    "plotSingleRaft(\"R01\", 30000, 29998, 30002)"
   ]
  },
  {
   "cell_type": "code",
   "execution_count": null,
   "id": "b505456c-2f28-4f5f-814a-bd70e482ffc0",
   "metadata": {},
   "outputs": [],
   "source": []
  }
 ],
 "metadata": {
  "kernelspec": {
   "display_name": "LSST",
   "language": "python",
   "name": "lsst"
  },
  "language_info": {
   "codemirror_mode": {
    "name": "ipython",
    "version": 3
   },
   "file_extension": ".py",
   "mimetype": "text/x-python",
   "name": "python",
   "nbconvert_exporter": "python",
   "pygments_lexer": "ipython3",
   "version": "3.12.9"
  }
 },
 "nbformat": 4,
 "nbformat_minor": 5
}
